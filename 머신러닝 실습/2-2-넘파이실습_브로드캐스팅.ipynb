{
 "cells": [
  {
   "cell_type": "markdown",
   "metadata": {},
   "source": [
    "실습 과제2: 벡터화 연산과 브로드캐스팅 이해하기\n",
    "문제 1: 기본 벡터화와 브로드캐스팅 이해하기\n",
    "x = np.linspace(0, 5, 50)와 y = np.linspace(0, 5, 50)[:, np.newaxis]를 생성하세요. 여기서 x는 (50,)의 1차원 배열이고, y는 [:, np.newaxis]를 사용하여 (50, 1)의 2차원 배열로 변환됩니다.\n",
    "\n",
    "x와 y의 형태를 출력하여 브로드캐스팅이 어떻게 이루어지는지 확인하세요.\n",
    "\n",
    "문제 2: 브로드캐스팅을 활용하여 수식 계산하기\n",
    "z = np.sin(x) ** 200 + np.cos(300 + y * x) * np.cos(x)를 사용하여 z 배열을 계산하세요.\n",
    "\n",
    "z 배열의 형태를 출력하고, 브로드캐스팅에 의해 z의 형태가 (50, 50)이 되었는지 확인하세요.\n",
    "\n",
    "문제 3: 벡터화 연산으로 계산 속도 비교하기\n",
    "for 반복문을 사용해 z의 각 요소를 수동으로 계산하는 코드를 작성하고, 벡터화 연산으로 구한 z와 같은 결과가 나오는지 확인하세요.\n",
    "\n",
    "timeit 모듈을 사용하여 반복문을 통한 계산과 벡터화 연산을 각각 수행하는 데 걸리는 시간을 측정하고, 두 연산 방식의 속도 차이를 비교하세요.\n",
    "\n",
    "\n",
    "문제 4: 그래프를 사용해 시각적으로 결과 확인하기\n",
    "z 값을 시각적으로 이해하기 위해 matplotlib 라이브러리를 사용하여 z의 값을 컬러 맵으로 시각화하세요.\n",
    "\n",
    "plt.imshow(z, extent=(0, 5, 0, 5), origin='lower', cmap='viridis')와 plt.colorbar()를 사용해 결과를 시각화하고, 그래프의 형태를 확인하세요.\n",
    "\n"
   ]
  },
  {
   "cell_type": "code",
   "execution_count": 11,
   "metadata": {},
   "outputs": [
    {
     "name": "stdout",
     "output_type": "stream",
     "text": [
      "[0.         0.10204082 0.20408163 0.30612245 0.40816327 0.51020408\n",
      " 0.6122449  0.71428571 0.81632653 0.91836735 1.02040816 1.12244898\n",
      " 1.2244898  1.32653061 1.42857143 1.53061224 1.63265306 1.73469388\n",
      " 1.83673469 1.93877551 2.04081633 2.14285714 2.24489796 2.34693878\n",
      " 2.44897959 2.55102041 2.65306122 2.75510204 2.85714286 2.95918367\n",
      " 3.06122449 3.16326531 3.26530612 3.36734694 3.46938776 3.57142857\n",
      " 3.67346939 3.7755102  3.87755102 3.97959184 4.08163265 4.18367347\n",
      " 4.28571429 4.3877551  4.48979592 4.59183673 4.69387755 4.79591837\n",
      " 4.89795918 5.        ]\n",
      "[[0.        ]\n",
      " [0.10204082]\n",
      " [0.20408163]\n",
      " [0.30612245]\n",
      " [0.40816327]\n",
      " [0.51020408]\n",
      " [0.6122449 ]\n",
      " [0.71428571]\n",
      " [0.81632653]\n",
      " [0.91836735]\n",
      " [1.02040816]\n",
      " [1.12244898]\n",
      " [1.2244898 ]\n",
      " [1.32653061]\n",
      " [1.42857143]\n",
      " [1.53061224]\n",
      " [1.63265306]\n",
      " [1.73469388]\n",
      " [1.83673469]\n",
      " [1.93877551]\n",
      " [2.04081633]\n",
      " [2.14285714]\n",
      " [2.24489796]\n",
      " [2.34693878]\n",
      " [2.44897959]\n",
      " [2.55102041]\n",
      " [2.65306122]\n",
      " [2.75510204]\n",
      " [2.85714286]\n",
      " [2.95918367]\n",
      " [3.06122449]\n",
      " [3.16326531]\n",
      " [3.26530612]\n",
      " [3.36734694]\n",
      " [3.46938776]\n",
      " [3.57142857]\n",
      " [3.67346939]\n",
      " [3.7755102 ]\n",
      " [3.87755102]\n",
      " [3.97959184]\n",
      " [4.08163265]\n",
      " [4.18367347]\n",
      " [4.28571429]\n",
      " [4.3877551 ]\n",
      " [4.48979592]\n",
      " [4.59183673]\n",
      " [4.69387755]\n",
      " [4.79591837]\n",
      " [4.89795918]\n",
      " [5.        ]]\n"
     ]
    }
   ],
   "source": [
    "import numpy as np\n",
    "x= np.linspace(0,5,50)\n",
    "y= np.linspace(0,5,50)[:,np.newaxis]\n",
    "print(x)\n",
    "print(y)"
   ]
  },
  {
   "cell_type": "code",
   "execution_count": 13,
   "metadata": {},
   "outputs": [
    {
     "data": {
      "text/plain": [
       "array([[-0.02209662, -0.02198168, -0.02163806, ...,  0.49547289,\n",
       "         0.02724053, -0.00604054],\n",
       "       [-0.02209662, -0.01162504, -0.00124733, ...,  0.53489941,\n",
       "         0.11614127,  0.13325184],\n",
       "       [-0.02209662, -0.00126714,  0.01914395, ...,  0.56550331,\n",
       "         0.18429112,  0.23866154],\n",
       "       ...,\n",
       "       [-0.02209662,  0.44811731,  0.80031128, ...,  0.42767562,\n",
       "        -0.15237784, -0.26153187],\n",
       "       [-0.02209662,  0.45734059,  0.81188813, ...,  0.41425119,\n",
       "        -0.13819336, -0.17481867],\n",
       "       [-0.02209662,  0.46651428,  0.8231129 , ...,  0.42032637,\n",
       "        -0.08254055, -0.04351942]])"
      ]
     },
     "execution_count": 13,
     "metadata": {},
     "output_type": "execute_result"
    }
   ],
   "source": [
    "z = np.sin(x) ** 200 + np.cos(300 + y * x) * np.cos(x)\n",
    "z"
   ]
  },
  {
   "cell_type": "code",
   "execution_count": null,
   "metadata": {},
   "outputs": [
    {
     "name": "stdout",
     "output_type": "stream",
     "text": [
      "[[ 0.          0.10204082  0.20408163 ...  4.79591837  4.89795918\n",
      "   5.        ]\n",
      " [ 0.10204082  0.20408163  0.30612245 ...  4.89795918  5.\n",
      "   5.10204082]\n",
      " [ 0.20408163  0.30612245  0.40816327 ...  5.          5.10204082\n",
      "   5.20408163]\n",
      " ...\n",
      " [ 4.79591837  4.89795918  5.         ...  9.59183673  9.69387755\n",
      "   9.79591837]\n",
      " [ 4.89795918  5.          5.10204082 ...  9.69387755  9.79591837\n",
      "   9.89795918]\n",
      " [ 5.          5.10204082  5.20408163 ...  9.79591837  9.89795918\n",
      "  10.        ]]\n",
      "[[ 0.          0.10204082  0.20408163 ...  4.79591837  4.89795918\n",
      "   5.        ]\n",
      " [ 0.10204082  0.20408163  0.30612245 ...  4.89795918  5.\n",
      "   5.10204082]\n",
      " [ 0.20408163  0.30612245  0.40816327 ...  5.          5.10204082\n",
      "   5.20408163]\n",
      " ...\n",
      " [ 4.79591837  4.89795918  5.         ...  9.59183673  9.69387755\n",
      "   9.79591837]\n",
      " [ 4.89795918  5.          5.10204082 ...  9.69387755  9.79591837\n",
      "   9.89795918]\n",
      " [ 5.          5.10204082  5.20408163 ...  9.79591837  9.89795918\n",
      "  10.        ]]\n"
     ]
    },
    {
     "name": "stderr",
     "output_type": "stream",
     "text": [
      "C:\\Users\\user\\AppData\\Local\\Temp\\ipykernel_12464\\2733879119.py:7: DeprecationWarning: Conversion of an array with ndim > 0 to a scalar is deprecated, and will error in future. Ensure you extract a single element from your array before performing this operation. (Deprecated NumPy 1.25.)\n",
      "  z[i,j] = x[i]+y[j]\n"
     ]
    }
   ],
   "source": [
    "def vector():\n",
    "   return x+y\n",
    "def loop():\n",
    "   for i in range(50):\n",
    "      for j in range(50):\n",
    "         z[i,j] = x[i]+y[j]\n",
    "   return z\n",
    "z_vector= vector()\n",
    "z_loop= loop()\n",
    "print(z_vector)\n",
    "print(z_loop)"
   ]
  },
  {
   "cell_type": "code",
   "execution_count": 21,
   "metadata": {},
   "outputs": [
    {
     "name": "stdout",
     "output_type": "stream",
     "text": [
      "3.89 μs ± 15.8 ns per loop (mean ± std. dev. of 7 runs, 100,000 loops each)\n"
     ]
    },
    {
     "name": "stderr",
     "output_type": "stream",
     "text": [
      "C:\\Users\\user\\AppData\\Local\\Temp\\ipykernel_12464\\2733879119.py:7: DeprecationWarning: Conversion of an array with ndim > 0 to a scalar is deprecated, and will error in future. Ensure you extract a single element from your array before performing this operation. (Deprecated NumPy 1.25.)\n",
      "  z[i,j] = x[i]+y[j]\n"
     ]
    },
    {
     "name": "stdout",
     "output_type": "stream",
     "text": [
      "3.89 ms ± 29.8 μs per loop (mean ± std. dev. of 7 runs, 100 loops each)\n"
     ]
    }
   ],
   "source": [
    "%timeit vector()\n",
    "%timeit loop()\n",
    "\n"
   ]
  },
  {
   "cell_type": "code",
   "execution_count": 23,
   "metadata": {},
   "outputs": [
    {
     "data": {
      "text/plain": [
       "<matplotlib.colorbar.Colorbar at 0x27522e68260>"
      ]
     },
     "execution_count": 23,
     "metadata": {},
     "output_type": "execute_result"
    },
    {
     "data": {
      "image/png": "[encoded data removed]",
      "text/plain": [
       "<Figure size 640x480 with 2 Axes>"
      ]
     },
     "metadata": {},
     "output_type": "display_data"
    }
   ],
   "source": [
    "import matplotlib.pyplot as plt\n",
    "plt.imshow(z, extent=(0, 5, 0, 5), origin='lower', cmap='viridis')\n",
    "plt.colorbar()"
   ]
  }
 ],
 "metadata": {
  "kernelspec": {
   "display_name": "Python 3",
   "language": "python",
   "name": "python3"
  },
  "language_info": {
   "codemirror_mode": {
    "name": "ipython",
    "version": 3
   },
   "file_extension": ".py",
   "mimetype": "text/x-python",
   "name": "python",
   "nbconvert_exporter": "python",
   "pygments_lexer": "ipython3",
   "version": "3.12.6"
  }
 },
 "nbformat": 4,
 "nbformat_minor": 2
}
